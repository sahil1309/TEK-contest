{
 "cells": [
  {
   "cell_type": "markdown",
   "id": "d4c4a9fb",
   "metadata": {},
   "source": [
    "##                                            ATM MACHINE"
   ]
  },
  {
   "cell_type": "markdown",
   "id": "03341401",
   "metadata": {},
   "source": [
    "## Atm_Loading()\n",
    "This is the first function : Atm_Loading\n",
    "This function asks the user to enter the denomination value and the total number of notes that he would like to enter.\n",
    "It takes care of all different entries that the user might enter(non-numeric included)"
   ]
  },
  {
   "cell_type": "code",
   "execution_count": 1,
   "id": "79ccaf97",
   "metadata": {},
   "outputs": [],
   "source": [
    "def Atm_Loading():\n",
    "    print(\"Welcome! The Atm is set to be loaded\")\n",
    "    print(\"You can enter all denominations of INR notes\")\n",
    "    print(\"Please enter the denomination that you would like to enter\")\n",
    "    print(\"Options available:- 2000,500,100,50,20,10,5\")\n",
    "    choice=\"Y\"\n",
    "    ch='2000'\n",
    "    denominations={'2000':0,'500':0,'100':0,'50':0,'20':0,'10':0,'5':0}\n",
    "    while(choice=='Y'):\n",
    "        try:\n",
    "            ch=input(\"Enter your choice\")\n",
    "            if(ch not in denominations):\n",
    "                print(\"Invalid input\")\n",
    "                print(\"Please enter a valid choice\")\n",
    "                print(\"Enter Y if you would like to continue else enter N\")\n",
    "                choice=input().upper()\n",
    "            else:\n",
    "                Enter_value(ch,denominations,'Y')\n",
    "                break\n",
    "        except:\n",
    "            print(\"Please enter a valid choice\")\n",
    "            print(\"Enter Y if you would like to continue else enter N\")\n",
    "            choice=input().upper()\n",
    "            \n",
    "    "
   ]
  },
  {
   "cell_type": "markdown",
   "id": "afcd4e88",
   "metadata": {},
   "source": [
    "## Enter_value()\n",
    "This function inputs user entry. It continues till the user wants to keep on adding cash.\n",
    "### Note - \n",
    "for multiple entries this block goes through a small bug due to recursion, however it doesnot affect the functionality of the code."
   ]
  },
  {
   "cell_type": "code",
   "execution_count": 2,
   "id": "9995ce6e",
   "metadata": {},
   "outputs": [],
   "source": [
    "updated_denominations={'2000':0,'500':0,'100':0,'50':0,'20':0,'10':0,'5':0}\n",
    "def Enter_value(ch,denominations,ch1):\n",
    "    print(\"Current number of denominations of {} is {}\".format(ch,denominations[ch]))\n",
    "    print(\"Enter the total number of notes of {} that you would like to enter\".format(ch))\n",
    "    while(ch1=='Y'):\n",
    "        try:\n",
    "            count=int(input())\n",
    "            denominations[ch]+=count\n",
    "            updated_denominations[ch]+=count\n",
    "            print(\"Successful transaction\")\n",
    "            print(\"Would you like to continue[Y/N]\")\n",
    "            ch1=input().upper()\n",
    "            if(ch1=='Y'):\n",
    "                print(\"Please enter the denomination that you would like to enter\")\n",
    "                ch=input()\n",
    "                Enter_value(ch,denominations,ch1)\n",
    "            else:\n",
    "                ch1='N'\n",
    "                print(\"Thank you\")\n",
    "                break\n",
    "        except:\n",
    "            print(\"Enter valid integer\")"
   ]
  },
  {
   "cell_type": "code",
   "execution_count": 3,
   "id": "de7204c2",
   "metadata": {},
   "outputs": [
    {
     "name": "stdout",
     "output_type": "stream",
     "text": [
      "Welcome! The Atm is set to be loaded\n",
      "You can enter all denominations of INR notes\n",
      "Please enter the denomination that you would like to enter\n",
      "Options available:- 2000,500,100,50,20,10,5\n",
      "Enter your choice2000\n",
      "Current number of denominations of 2000 is 0\n",
      "Enter the total number of notes of 2000 that you would like to enter\n",
      "2\n",
      "Successful transaction\n",
      "Would you like to continue[Y/N]\n",
      "y\n",
      "Please enter the denomination that you would like to enter\n",
      "500\n",
      "Current number of denominations of 500 is 0\n",
      "Enter the total number of notes of 500 that you would like to enter\n",
      "5\n",
      "Successful transaction\n",
      "Would you like to continue[Y/N]\n",
      "y\n",
      "Please enter the denomination that you would like to enter\n",
      "100\n",
      "Current number of denominations of 100 is 0\n",
      "Enter the total number of notes of 100 that you would like to enter\n",
      "10\n",
      "Successful transaction\n",
      "Would you like to continue[Y/N]\n",
      "y\n",
      "Please enter the denomination that you would like to enter\n",
      "10\n",
      "Current number of denominations of 10 is 0\n",
      "Enter the total number of notes of 10 that you would like to enter\n",
      "20\n",
      "Successful transaction\n",
      "Would you like to continue[Y/N]\n",
      "n\n",
      "Thank you\n",
      "\n",
      "Enter valid integer\n",
      "5\n",
      "Successful transaction\n",
      "Would you like to continue[Y/N]\n",
      "n\n",
      "Thank you\n",
      "\n",
      "Enter valid integer\n",
      "5\n",
      "Successful transaction\n",
      "Would you like to continue[Y/N]\n",
      "\n",
      "Thank you\n",
      "\n",
      "Enter valid integer\n",
      "\n",
      "Enter valid integer\n",
      "\n",
      "Enter valid integer\n",
      "6\n",
      "Successful transaction\n",
      "Would you like to continue[Y/N]\n",
      "n\n",
      "Thank you\n"
     ]
    }
   ],
   "source": [
    "Atm_Loading()"
   ]
  },
  {
   "cell_type": "markdown",
   "id": "6e819a7f",
   "metadata": {},
   "source": [
    "## withdrawl()\n",
    "This block asks the user about the withdrawl amount.\n",
    "It displays the number of different denominations available in the Atm."
   ]
  },
  {
   "cell_type": "code",
   "execution_count": 4,
   "id": "420cb680",
   "metadata": {
    "scrolled": true
   },
   "outputs": [],
   "source": [
    "list_notes=[5,10,20,50,100,500,2000]\n",
    "def withdrawl():\n",
    "    print(\"Welcome to withdrawl section\")\n",
    "    print(\"Atm status\")\n",
    "    for keys,values in updated_denominations.items():\n",
    "        print(keys,values)\n",
    "    print(\"Enter the amount that you want to withdraw\")\n",
    "    amount=int(input())\n",
    "    if(amount%5!=0):\n",
    "        print(\"invalid input\")\n",
    "    else:\n",
    "        ans=combinations1(amount) \n",
    "        "
   ]
  },
  {
   "cell_type": "code",
   "execution_count": 5,
   "id": "fc00415b",
   "metadata": {},
   "outputs": [
    {
     "data": {
      "text/plain": [
       "[2000, 500, 100, 10]"
      ]
     },
     "execution_count": 5,
     "metadata": {},
     "output_type": "execute_result"
    }
   ],
   "source": [
    "required={}\n",
    "required_list=[]\n",
    "for key,values in updated_denominations.items():\n",
    "    if(updated_denominations[key])!=0:\n",
    "        required[key]=values\n",
    "        required_list.append(int(key))\n",
    "required_list"
   ]
  },
  {
   "cell_type": "markdown",
   "id": "dc028dfd",
   "metadata": {},
   "source": [
    "## combinations1()\n",
    "* This the most important part of the code.\n",
    "* It uses dynamic programming to find all the combinations using the denominations available to reach the amount.\n",
    "* Then the result is filtered based on the amount of cash present.\n",
    "* example:\n",
    "* amount = 700\n",
    "* number of $50 notes = 13\n",
    "* in this case no combination is possible"
   ]
  },
  {
   "cell_type": "code",
   "execution_count": 6,
   "id": "aa0b2bb2",
   "metadata": {},
   "outputs": [],
   "source": [
    "import itertools\n",
    "from collections import Counter\n",
    "flag=0\n",
    "final_answer={}\n",
    "required={}\n",
    "required_list=[]\n",
    "for key,values in updated_denominations.items():\n",
    "    if(updated_denominations[key])!=0:\n",
    "        required[key]=values\n",
    "        required_list.append(int(key))\n",
    "\n",
    "answer={}\n",
    "def combinations1(amount):\n",
    "    answer={}\n",
    "    dp=[[] for _ in range(amount+1)]\n",
    "    for c in required_list:\n",
    "        \n",
    "        for i in range(c,amount+1):\n",
    "            if i==c:\n",
    "                dp[i].append([c])\n",
    "            for comb in dp[i-c]:\n",
    "                dp[i].append(comb+[c])\n",
    "    \n",
    "    comb_data=dp[-1]\n",
    "    if(comb_data==[]):\n",
    "        print(\"No combinations possible\")\n",
    "        return\n",
    "    for i in range(len(comb_data)):\n",
    "        item=comb_data[i]\n",
    "        \n",
    "        for x in required_list:\n",
    "            d=Counter(item)\n",
    "            count=d[x]\n",
    "            if(count<=updated_denominations[str(x)]):\n",
    "                flag=1\n",
    "                answer[x]=count\n",
    "            else:\n",
    "                flag=0\n",
    "                answer={}\n",
    "        if flag==1:\n",
    "            for keys,values in answer.items():\n",
    "                if answer[keys]!=0:\n",
    "                    final_answer[keys]=values\n",
    "            print(final_answer)\n",
    "\n",
    "\n",
    "\n",
    "    \n",
    "    \n"
   ]
  },
  {
   "cell_type": "code",
   "execution_count": 7,
   "id": "6e4e734a",
   "metadata": {
    "scrolled": true
   },
   "outputs": [
    {
     "name": "stdout",
     "output_type": "stream",
     "text": [
      "Welcome to withdrawl section\n",
      "Atm status\n",
      "2000 2\n",
      "500 11\n",
      "100 15\n",
      "50 0\n",
      "20 0\n",
      "10 25\n",
      "5 0\n",
      "Enter the amount that you want to withdraw\n",
      "5000\n",
      "{2000: 2, 500: 2}\n",
      "{2000: 1, 500: 6}\n",
      "{2000: 1, 500: 10}\n",
      "{2000: 2, 500: 1, 100: 5}\n",
      "{2000: 1, 500: 5, 100: 5}\n",
      "{2000: 1, 500: 9, 100: 5}\n",
      "{2000: 2, 500: 9, 100: 10}\n",
      "{2000: 1, 500: 4, 100: 10}\n",
      "{2000: 1, 500: 8, 100: 10}\n",
      "{2000: 1, 500: 3, 100: 15}\n",
      "{2000: 1, 500: 7, 100: 15}\n",
      "{2000: 1, 500: 7, 100: 15}\n",
      "{2000: 1, 500: 7, 100: 15}\n",
      "{2000: 1, 500: 7, 100: 15}\n",
      "{2000: 1, 500: 7, 100: 15}\n",
      "{2000: 1, 500: 7, 100: 15}\n",
      "{2000: 1, 500: 7, 100: 15}\n",
      "{2000: 1, 500: 7, 100: 15}\n",
      "{2000: 1, 500: 7, 100: 15}\n",
      "{2000: 1, 500: 7, 100: 15}\n",
      "{2000: 1, 500: 7, 100: 15}\n",
      "{2000: 2, 500: 1, 100: 4, 10: 10}\n",
      "{2000: 1, 500: 5, 100: 4, 10: 10}\n",
      "{2000: 1, 500: 9, 100: 4, 10: 10}\n",
      "{2000: 2, 500: 9, 100: 9, 10: 10}\n",
      "{2000: 1, 500: 4, 100: 9, 10: 10}\n",
      "{2000: 1, 500: 8, 100: 9, 10: 10}\n",
      "{2000: 1, 500: 3, 100: 14, 10: 10}\n",
      "{2000: 1, 500: 7, 100: 14, 10: 10}\n",
      "{2000: 1, 500: 7, 100: 14, 10: 10}\n",
      "{2000: 1, 500: 7, 100: 14, 10: 10}\n",
      "{2000: 1, 500: 7, 100: 14, 10: 10}\n",
      "{2000: 1, 500: 7, 100: 14, 10: 10}\n",
      "{2000: 1, 500: 7, 100: 14, 10: 10}\n",
      "{2000: 1, 500: 7, 100: 14, 10: 10}\n",
      "{2000: 1, 500: 7, 100: 14, 10: 10}\n",
      "{2000: 1, 500: 7, 100: 14, 10: 10}\n",
      "{2000: 1, 500: 7, 100: 14, 10: 10}\n",
      "{2000: 1, 500: 7, 100: 14, 10: 10}\n",
      "{2000: 2, 500: 1, 100: 3, 10: 20}\n",
      "{2000: 1, 500: 5, 100: 3, 10: 20}\n",
      "{2000: 1, 500: 9, 100: 3, 10: 20}\n",
      "{2000: 2, 500: 9, 100: 8, 10: 20}\n",
      "{2000: 1, 500: 4, 100: 8, 10: 20}\n",
      "{2000: 1, 500: 8, 100: 8, 10: 20}\n",
      "{2000: 1, 500: 3, 100: 13, 10: 20}\n",
      "{2000: 1, 500: 7, 100: 13, 10: 20}\n",
      "{2000: 1, 500: 7, 100: 13, 10: 20}\n",
      "{2000: 1, 500: 7, 100: 13, 10: 20}\n",
      "{2000: 1, 500: 7, 100: 13, 10: 20}\n",
      "{2000: 1, 500: 7, 100: 13, 10: 20}\n",
      "{2000: 1, 500: 7, 100: 13, 10: 20}\n",
      "{2000: 1, 500: 7, 100: 13, 10: 20}\n",
      "{2000: 1, 500: 7, 100: 13, 10: 20}\n",
      "{2000: 1, 500: 7, 100: 13, 10: 20}\n",
      "{2000: 1, 500: 7, 100: 13, 10: 20}\n",
      "{2000: 1, 500: 7, 100: 13, 10: 20}\n"
     ]
    }
   ],
   "source": [
    "withdrawl()"
   ]
  },
  {
   "cell_type": "code",
   "execution_count": null,
   "id": "2c62d7d5",
   "metadata": {},
   "outputs": [],
   "source": []
  },
  {
   "cell_type": "code",
   "execution_count": null,
   "id": "947933d1",
   "metadata": {},
   "outputs": [],
   "source": []
  }
 ],
 "metadata": {
  "kernelspec": {
   "display_name": "Python 3 (ipykernel)",
   "language": "python",
   "name": "python3"
  },
  "language_info": {
   "codemirror_mode": {
    "name": "ipython",
    "version": 3
   },
   "file_extension": ".py",
   "mimetype": "text/x-python",
   "name": "python",
   "nbconvert_exporter": "python",
   "pygments_lexer": "ipython3",
   "version": "3.9.13"
  }
 },
 "nbformat": 4,
 "nbformat_minor": 5
}
